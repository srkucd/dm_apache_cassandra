{
 "cells": [
  {
   "cell_type": "markdown",
   "metadata": {
    "editable": true
   },
   "source": [
    "# Part I. ETL Pipeline for Pre-Processing the Files"
   ]
  },
  {
   "cell_type": "markdown",
   "metadata": {
    "editable": true
   },
   "source": [
    "## PLEASE RUN THE FOLLOWING CODE FOR PRE-PROCESSING THE FILES"
   ]
  },
  {
   "cell_type": "markdown",
   "metadata": {
    "editable": true
   },
   "source": [
    "#### Import Python packages "
   ]
  },
  {
   "cell_type": "code",
   "execution_count": 110,
   "metadata": {
    "editable": true
   },
   "outputs": [],
   "source": [
    "# Import Python packages \n",
    "import pandas as pd\n",
    "import cassandra\n",
    "import re\n",
    "import os\n",
    "import glob\n",
    "import numpy as np\n",
    "import json\n",
    "import csv"
   ]
  },
  {
   "cell_type": "markdown",
   "metadata": {
    "editable": true
   },
   "source": [
    "#### Creating list of filepaths to process original event csv data files"
   ]
  },
  {
   "cell_type": "code",
   "execution_count": 111,
   "metadata": {
    "editable": true
   },
   "outputs": [
    {
     "name": "stdout",
     "output_type": "stream",
     "text": [
      "/home/workspace\n"
     ]
    }
   ],
   "source": [
    "# checking your current working directory\n",
    "print(os.getcwd())\n",
    "\n",
    "# Get your current folder and subfolder event data\n",
    "filepath = os.getcwd() + '/event_data'\n",
    "\n",
    "# Create a for loop to create a list of files and collect each filepath\n",
    "for root, dirs, files in os.walk(filepath):\n",
    "    \n",
    "# join the file path and roots with the subdirectories using glob\n",
    "    file_path_list = glob.glob(os.path.join(root,'*'))\n",
    "    #print(file_path_list)"
   ]
  },
  {
   "cell_type": "markdown",
   "metadata": {
    "editable": true
   },
   "source": [
    "#### Processing the files to create the data file csv that will be used for Apache Casssandra tables"
   ]
  },
  {
   "cell_type": "code",
   "execution_count": 112,
   "metadata": {
    "editable": true
   },
   "outputs": [],
   "source": [
    "# initiating an empty list of rows that will be generated from each file\n",
    "full_data_rows_list = [] \n",
    "    \n",
    "# for every filepath in the file path list \n",
    "for f in file_path_list:\n",
    "\n",
    "# reading csv file \n",
    "    with open(f, 'r', encoding = 'utf8', newline='') as csvfile: \n",
    "        # creating a csv reader object \n",
    "        csvreader = csv.reader(csvfile) \n",
    "        next(csvreader)\n",
    "        \n",
    " # extracting each data row one by one and append it        \n",
    "        for line in csvreader:\n",
    "            #print(line)\n",
    "            full_data_rows_list.append(line) \n",
    "            \n",
    "# uncomment the code below if you would like to get total number of rows \n",
    "#print(len(full_data_rows_list))\n",
    "# uncomment the code below if you would like to check to see what the list of event data rows will look like\n",
    "#print(full_data_rows_list)\n",
    "\n",
    "# creating a smaller event data csv file called event_datafile_full csv that will be used to insert data into the \\\n",
    "# Apache Cassandra tables\n",
    "csv.register_dialect('myDialect', quoting=csv.QUOTE_ALL, skipinitialspace=True)\n",
    "\n",
    "with open('event_datafile_new.csv', 'w', encoding = 'utf8', newline='') as f:\n",
    "    writer = csv.writer(f, dialect='myDialect')\n",
    "    writer.writerow(['artist','firstName','gender','itemInSession','lastName','length',\\\n",
    "                'level','location','sessionId','song','userId'])\n",
    "    for row in full_data_rows_list:\n",
    "        if (row[0] == ''):\n",
    "            continue\n",
    "        writer.writerow((row[0], row[2], row[3], row[4], row[5], row[6], row[7], row[8], row[12], row[13], row[16]))\n"
   ]
  },
  {
   "cell_type": "code",
   "execution_count": 113,
   "metadata": {
    "editable": true
   },
   "outputs": [
    {
     "name": "stdout",
     "output_type": "stream",
     "text": [
      "8056\n",
      "['Stephen Lynch', 'Logged In', 'Jayden', 'M', '0', 'Bell', '182.85669', 'free', 'Dallas-Fort Worth-Arlington, TX', 'PUT', 'NextSong', '1.54099E+12', '829', \"Jim Henson's Dead\", '200', '1.54354E+12', '91']\n"
     ]
    }
   ],
   "source": [
    "print(len(full_data_rows_list))\n",
    "print(full_data_rows_list[0])"
   ]
  },
  {
   "cell_type": "code",
   "execution_count": 114,
   "metadata": {
    "editable": true
   },
   "outputs": [
    {
     "name": "stdout",
     "output_type": "stream",
     "text": [
      "6821\n"
     ]
    }
   ],
   "source": [
    "# check the number of rows in your csv file\n",
    "with open('event_datafile_new.csv', 'r', encoding = 'utf8') as f:\n",
    "    print(sum(1 for line in f))"
   ]
  },
  {
   "cell_type": "markdown",
   "metadata": {
    "editable": true
   },
   "source": [
    "# Part II. Complete the Apache Cassandra coding portion of your project. \n",
    "\n",
    "## Now you are ready to work with the CSV file titled <font color=red>event_datafile_new.csv</font>, located within the Workspace directory.  The event_datafile_new.csv contains the following columns: \n",
    "- artist \n",
    "- firstName of user\n",
    "- gender of user\n",
    "- item number in session\n",
    "- last name of user\n",
    "- length of the song\n",
    "- level (paid or free song)\n",
    "- location of the user\n",
    "- sessionId\n",
    "- song title\n",
    "- userId\n",
    "\n",
    "The image below is a screenshot of what the denormalized data should appear like in the <font color=red>**event_datafile_new.csv**</font> after the code above is run:<br>\n",
    "\n",
    "<img src=\"images/image_event_datafile_new.jpg\">"
   ]
  },
  {
   "cell_type": "markdown",
   "metadata": {
    "editable": true
   },
   "source": [
    "## Begin writing your Apache Cassandra code in the cells below"
   ]
  },
  {
   "cell_type": "markdown",
   "metadata": {
    "editable": true
   },
   "source": [
    "#### Creating a Cluster"
   ]
  },
  {
   "cell_type": "code",
   "execution_count": 115,
   "metadata": {
    "editable": true
   },
   "outputs": [],
   "source": [
    "# This should make a connection to a Cassandra instance your local machine \n",
    "# (127.0.0.1)\n",
    "\n",
    "from cassandra.cluster import Cluster\n",
    "cluster = Cluster(['127.0.0.1'])\n",
    "    \n",
    "\n",
    "# To establish connection and begin executing queries, need a session\n",
    "session = cluster.connect()"
   ]
  },
  {
   "cell_type": "markdown",
   "metadata": {
    "editable": true
   },
   "source": [
    "#### Create Keyspace"
   ]
  },
  {
   "cell_type": "code",
   "execution_count": 116,
   "metadata": {
    "editable": true
   },
   "outputs": [],
   "source": [
    "# TO-DO: Create a Keyspace \n",
    "try:\n",
    "    session.execute(\"\"\"\n",
    "    CREATE KEYSPACE IF NOT EXISTS events\n",
    "    WITH REPLICATION = {'class':'SimpleStrategy',\n",
    "                        'replication_factor':1}\n",
    "    \"\"\")\n",
    "except Exception as e:\n",
    "    print(e)"
   ]
  },
  {
   "cell_type": "markdown",
   "metadata": {
    "editable": true
   },
   "source": [
    "#### Set Keyspace"
   ]
  },
  {
   "cell_type": "code",
   "execution_count": 117,
   "metadata": {
    "editable": true
   },
   "outputs": [],
   "source": [
    "# TO-DO: Set KEYSPACE to the keyspace specified above\n",
    "try:\n",
    "    session.set_keyspace('events')\n",
    "except Exception as e:\n",
    "    print(e)"
   ]
  },
  {
   "cell_type": "markdown",
   "metadata": {
    "editable": true
   },
   "source": [
    "### Now we need to create tables to run the following queries. Remember, with Apache Cassandra you model the database tables on the queries you want to run."
   ]
  },
  {
   "cell_type": "markdown",
   "metadata": {
    "editable": true
   },
   "source": [
    "## Create queries to ask the following three questions of the data\n",
    "\n",
    "### 1. Give me the artist, song title and song's length in the music app history that was heard during  sessionId = 338, and itemInSession  = 4\n",
    "\n",
    "\n",
    "### 2. Give me only the following: name of artist, song (sorted by itemInSession) and user (first and last name) for userid = 10, sessionid = 182\n",
    "    \n",
    "\n",
    "### 3. Give me every user name (first and last) in my music app history who listened to the song 'All Hands Against His Own'\n",
    "\n",
    "\n"
   ]
  },
  {
   "cell_type": "code",
   "execution_count": 118,
   "metadata": {
    "editable": true
   },
   "outputs": [
    {
     "data": {
      "text/html": [
       "<div>\n",
       "<style scoped>\n",
       "    .dataframe tbody tr th:only-of-type {\n",
       "        vertical-align: middle;\n",
       "    }\n",
       "\n",
       "    .dataframe tbody tr th {\n",
       "        vertical-align: top;\n",
       "    }\n",
       "\n",
       "    .dataframe thead th {\n",
       "        text-align: right;\n",
       "    }\n",
       "</style>\n",
       "<table border=\"1\" class=\"dataframe\">\n",
       "  <thead>\n",
       "    <tr style=\"text-align: right;\">\n",
       "      <th></th>\n",
       "      <th>artist</th>\n",
       "      <th>firstName</th>\n",
       "      <th>gender</th>\n",
       "      <th>itemInSession</th>\n",
       "      <th>lastName</th>\n",
       "      <th>length</th>\n",
       "      <th>level</th>\n",
       "      <th>location</th>\n",
       "      <th>sessionId</th>\n",
       "      <th>song</th>\n",
       "      <th>userId</th>\n",
       "    </tr>\n",
       "  </thead>\n",
       "  <tbody>\n",
       "    <tr>\n",
       "      <th>0</th>\n",
       "      <td>Stephen Lynch</td>\n",
       "      <td>Jayden</td>\n",
       "      <td>M</td>\n",
       "      <td>0</td>\n",
       "      <td>Bell</td>\n",
       "      <td>182.85669</td>\n",
       "      <td>free</td>\n",
       "      <td>Dallas-Fort Worth-Arlington, TX</td>\n",
       "      <td>829</td>\n",
       "      <td>Jim Henson's Dead</td>\n",
       "      <td>91</td>\n",
       "    </tr>\n",
       "    <tr>\n",
       "      <th>1</th>\n",
       "      <td>Manowar</td>\n",
       "      <td>Jacob</td>\n",
       "      <td>M</td>\n",
       "      <td>0</td>\n",
       "      <td>Klein</td>\n",
       "      <td>247.56200</td>\n",
       "      <td>paid</td>\n",
       "      <td>Tampa-St. Petersburg-Clearwater, FL</td>\n",
       "      <td>1049</td>\n",
       "      <td>Shell Shock</td>\n",
       "      <td>73</td>\n",
       "    </tr>\n",
       "    <tr>\n",
       "      <th>2</th>\n",
       "      <td>Morcheeba</td>\n",
       "      <td>Jacob</td>\n",
       "      <td>M</td>\n",
       "      <td>1</td>\n",
       "      <td>Klein</td>\n",
       "      <td>257.41016</td>\n",
       "      <td>paid</td>\n",
       "      <td>Tampa-St. Petersburg-Clearwater, FL</td>\n",
       "      <td>1049</td>\n",
       "      <td>Women Lose Weight (Feat: Slick Rick)</td>\n",
       "      <td>73</td>\n",
       "    </tr>\n",
       "    <tr>\n",
       "      <th>3</th>\n",
       "      <td>Maroon 5</td>\n",
       "      <td>Jacob</td>\n",
       "      <td>M</td>\n",
       "      <td>2</td>\n",
       "      <td>Klein</td>\n",
       "      <td>231.23546</td>\n",
       "      <td>paid</td>\n",
       "      <td>Tampa-St. Petersburg-Clearwater, FL</td>\n",
       "      <td>1049</td>\n",
       "      <td>Won't Go Home Without You</td>\n",
       "      <td>73</td>\n",
       "    </tr>\n",
       "    <tr>\n",
       "      <th>4</th>\n",
       "      <td>Train</td>\n",
       "      <td>Jacob</td>\n",
       "      <td>M</td>\n",
       "      <td>3</td>\n",
       "      <td>Klein</td>\n",
       "      <td>216.76363</td>\n",
       "      <td>paid</td>\n",
       "      <td>Tampa-St. Petersburg-Clearwater, FL</td>\n",
       "      <td>1049</td>\n",
       "      <td>Hey_ Soul Sister</td>\n",
       "      <td>73</td>\n",
       "    </tr>\n",
       "  </tbody>\n",
       "</table>\n",
       "</div>"
      ],
      "text/plain": [
       "          artist firstName gender  itemInSession lastName     length level  \\\n",
       "0  Stephen Lynch    Jayden      M              0     Bell  182.85669  free   \n",
       "1        Manowar     Jacob      M              0    Klein  247.56200  paid   \n",
       "2      Morcheeba     Jacob      M              1    Klein  257.41016  paid   \n",
       "3       Maroon 5     Jacob      M              2    Klein  231.23546  paid   \n",
       "4          Train     Jacob      M              3    Klein  216.76363  paid   \n",
       "\n",
       "                              location  sessionId  \\\n",
       "0      Dallas-Fort Worth-Arlington, TX        829   \n",
       "1  Tampa-St. Petersburg-Clearwater, FL       1049   \n",
       "2  Tampa-St. Petersburg-Clearwater, FL       1049   \n",
       "3  Tampa-St. Petersburg-Clearwater, FL       1049   \n",
       "4  Tampa-St. Petersburg-Clearwater, FL       1049   \n",
       "\n",
       "                                   song  userId  \n",
       "0                     Jim Henson's Dead      91  \n",
       "1                           Shell Shock      73  \n",
       "2  Women Lose Weight (Feat: Slick Rick)      73  \n",
       "3             Won't Go Home Without You      73  \n",
       "4                      Hey_ Soul Sister      73  "
      ]
     },
     "execution_count": 118,
     "metadata": {},
     "output_type": "execute_result"
    }
   ],
   "source": [
    "df = pd.read_csv('event_datafile_new.csv')\n",
    "df.head()"
   ]
  },
  {
   "cell_type": "code",
   "execution_count": 119,
   "metadata": {
    "editable": true
   },
   "outputs": [],
   "source": [
    "## TO-DO: Query 1:  Give me the artist, song title and song's length in the music app history that was heard during \\\n",
    "## sessionId = 338, and itemInSession = 4\n",
    "task_one_df = df.loc[(df['sessionId']==338) & (df['itemInSession']==4)][['artist','song','length']]\n",
    "task_one_data = task_one_df.values.tolist()\n",
    "db_one = \"\"\"CREATE TABLE IF NOT EXISTS task_one(artist TEXT, song TEXT, length FLOAT, \n",
    "               PRIMARY KEY(artist, song, length))\n",
    "\"\"\"\n",
    "try:\n",
    "    session.execute(db_one)\n",
    "except Exception as e:\n",
    "    print(e)\n",
    "#import data into database one\n",
    "import_one = \"\"\"INSERT INTO task_one(artist, song, length)\n",
    "                VALUES (%s, %s, %s)\n",
    "\"\"\"\n",
    "for each in task_one_data:\n",
    "    session.execute(import_one,(each[0],each[1],each[2]))\n"
   ]
  },
  {
   "cell_type": "markdown",
   "metadata": {
    "editable": true
   },
   "source": [
    "#### Do a SELECT to verify that the data have been inserted into each table"
   ]
  },
  {
   "cell_type": "code",
   "execution_count": 120,
   "metadata": {
    "editable": true
   },
   "outputs": [
    {
     "name": "stdout",
     "output_type": "stream",
     "text": [
      "Faithless , Music Matters (Mark Knight Dub) , 495.30731201171875\n"
     ]
    }
   ],
   "source": [
    "## TO-DO: Add in the SELECT statement to verify the data was entered into the table\n",
    "\n",
    "try:\n",
    "    validate_one = session.execute('SELECT * FROM task_one;')\n",
    "except Exception as e:\n",
    "    print(e)\n",
    "    \n",
    "for each in validate_one:\n",
    "    print(each.artist,',',each.song,',',each.length)"
   ]
  },
  {
   "cell_type": "code",
   "execution_count": 121,
   "metadata": {
    "editable": true
   },
   "outputs": [],
   "source": [
    "#I use my own code instead of prepared code.\n",
    "\n",
    "# # We have provided part of the code to set up the CSV file. Please complete the Apache Cassandra code below#\n",
    "# file = 'event_datafile_new.csv'\n",
    "\n",
    "# with open(file, encoding = 'utf8') as f:\n",
    "#     csvreader = csv.reader(f)\n",
    "#     next(csvreader) # skip header\n",
    "#     for line in csvreader:\n",
    "# ## TO-DO: Assign the INSERT statements into the `query` variable\n",
    "#         query = \"<ENTER INSERT STATEMENT HERE>\"\n",
    "#         query = query + \"<ASSIGN VALUES HERE>\"\n",
    "#         ## TO-DO: Assign which column element should be assigned for each column in the INSERT statement.\n",
    "#         ## For e.g., to INSERT artist_name and user first_name, you would change the code below to `line[0], line[1]`\n",
    "#         session.execute(query, (line[#], line[#]))"
   ]
  },
  {
   "cell_type": "markdown",
   "metadata": {
    "editable": true
   },
   "source": [
    "### COPY AND REPEAT THE ABOVE THREE CELLS FOR EACH OF THE THREE QUESTIONS"
   ]
  },
  {
   "cell_type": "code",
   "execution_count": 123,
   "metadata": {
    "editable": true
   },
   "outputs": [],
   "source": [
    "## TO-DO: Query 2: Give me only the following: name of artist, song (sorted by itemInSession) and user (first and last name)\\\n",
    "## for userid = 10, sessionid = 182\n",
    "task_two_df = df.loc[(df['userId']==10) | (df['sessionId']==182)].sort_values(by='itemInSession')[['artist','song','firstName','lastName']]\n",
    "task_two_data = task_two_df.values.tolist()\n",
    "db_two = \"\"\"CREATE TABLE IF NOT EXISTS task_two(artist TEXT, song TEXT, firstName TEXT, lastName TEXT, \n",
    "               PRIMARY KEY(artist, song))\n",
    "\"\"\"\n",
    "try:\n",
    "    session.execute(db_two)\n",
    "except Exception as e:\n",
    "    print(e)\n",
    "\n",
    "\n",
    "import_two = \"\"\"INSERT INTO task_two(artist, song, firstName, lastName)\n",
    "                VALUES (%s, %s, %s, %s)\n",
    "\"\"\"\n",
    "for each in task_two_data:\n",
    "    try:\n",
    "        session.execute(import_two,(each[0],each[1],each[2],each[3]))\n",
    "    except Exception as e:\n",
    "        print(e)\n",
    "\n",
    "\n",
    "                    "
   ]
  },
  {
   "cell_type": "code",
   "execution_count": 124,
   "metadata": {
    "editable": true
   },
   "outputs": [
    {
     "name": "stdout",
     "output_type": "stream",
     "text": [
      "Wu-Tang Clan , Impossible , Sylvie Cruz\n",
      "Vader , Carnal , Sylvie Cruz\n",
      "Nightwish , The Islander , Sylvie Cruz\n",
      "Percubaba , Intro , Sylvie Cruz\n",
      "Chromeo , Momma's Boy , Sylvie Cruz\n",
      "KC And The Sunshine Band , Get Down Tonight (Miami Mix) , Sylvie Cruz\n",
      "Sebastien Tellier , Kilometer , Sylvie Cruz\n",
      "I Set My Friends On Fire , But The NUNS Are Watching , Sylvie Cruz\n",
      "Pavement , Mercy:The Laundromat , Sylvie Cruz\n",
      "Ricardo Arjona , Como Duele (Album) , Sylvie Cruz\n",
      "Molotov , Marciano (I Turned Into A Martian) , Sylvie Cruz\n",
      "Klaus Badelt , Moonlight Serenade , Sylvie Cruz\n",
      "Amy Winehouse , You Know I'm No Good , Sylvie Cruz\n",
      "Watain , Sworn To The Dark , Sylvie Cruz\n",
      "The White Stripes , Seven Nation Army (Album Version) , Sylvie Cruz\n",
      "Three Drives , Greece 2000 , Sylvie Cruz\n",
      "Rilo Kiley , A Man/Me/Then Jim (Album Version) , Sylvie Cruz\n",
      "Matt Redman , Blessed Be Your Name , Sylvie Cruz\n",
      "Samael , God's Snake , Sylvie Cruz\n",
      "Cameo , Word Up! , Sylvie Cruz\n",
      "Black Eyed Peas , Pump It , Sylvie Cruz\n",
      "Eminem , Criminal , Sylvie Cruz\n",
      "John Mayer , Love Song For No One , Sylvie Cruz\n",
      "Laurel & Hardy , At the Ball_ That's All , Sylvie Cruz\n",
      "Lonnie Gordon , Catch You Baby (Steve Pitron & Max Sanna Radio Edit) , Sylvie Cruz\n",
      "The Swell Season , If You Want Me (Live) , Sylvie Cruz\n",
      "Brad Paisley With Andy Griffith , Waitin' On A Woman , Sylvie Cruz\n",
      "Down To The Bone , Keep On Keepin' On , Sylvie Cruz\n"
     ]
    }
   ],
   "source": [
    "try:\n",
    "    validate_two = session.execute('SELECT * FROM task_two;')\n",
    "except Exception as e:\n",
    "    print(e)\n",
    "    \n",
    "for each in validate_two:\n",
    "    print(each.artist,',', each.song,',', each.firstname,each.lastname)"
   ]
  },
  {
   "cell_type": "code",
   "execution_count": 125,
   "metadata": {
    "editable": true
   },
   "outputs": [],
   "source": [
    "## TO-DO: Query 3: Give me every user name (first and last) in my music app history who listened to the song 'All Hands Against His Own'\n",
    "task_three_df = df.loc[df['song']=='All Hands Against His Own'].sort_values(by='itemInSession')[['firstName','lastName']]\n",
    "task_three_data = task_three_df.values.tolist()\n",
    "db_three = \"\"\"CREATE TABLE IF NOT EXISTS task_three(firstName TEXT, lastName TEXT, \n",
    "               PRIMARY KEY(firstName, lastName))\n",
    "\"\"\"\n",
    "try:\n",
    "    session.execute(db_three)\n",
    "except Exception as e:\n",
    "    print(e)\n",
    "\n",
    "import_three = \"\"\"INSERT INTO task_three(firstName, lastName)\n",
    "                VALUES (%s, %s)\n",
    "\"\"\"\n",
    "for each in task_three_data:\n",
    "    try:\n",
    "        session.execute(import_three,(each[0],each[1]))\n",
    "    except Exception as e:\n",
    "        print(e)\n",
    "                    "
   ]
  },
  {
   "cell_type": "code",
   "execution_count": 126,
   "metadata": {
    "editable": true
   },
   "outputs": [
    {
     "name": "stdout",
     "output_type": "stream",
     "text": [
      "Tegan Levine\n",
      "Jacqueline Lynch\n",
      "Sara Johnson\n"
     ]
    }
   ],
   "source": [
    "try:\n",
    "    validate_two = session.execute('SELECT * FROM task_three;')\n",
    "except Exception as e:\n",
    "    print(e)\n",
    "    \n",
    "for each in validate_two:\n",
    "    print(each.firstname,each.lastname)"
   ]
  },
  {
   "cell_type": "code",
   "execution_count": null,
   "metadata": {
    "editable": true
   },
   "outputs": [],
   "source": []
  },
  {
   "cell_type": "code",
   "execution_count": null,
   "metadata": {
    "editable": true
   },
   "outputs": [],
   "source": []
  },
  {
   "cell_type": "markdown",
   "metadata": {
    "editable": true
   },
   "source": [
    "### Drop the tables before closing out the sessions"
   ]
  },
  {
   "cell_type": "code",
   "execution_count": 4,
   "metadata": {
    "editable": true
   },
   "outputs": [],
   "source": [
    "## TO-DO: Drop the table before closing out the sessions"
   ]
  },
  {
   "cell_type": "code",
   "execution_count": 108,
   "metadata": {
    "editable": true
   },
   "outputs": [],
   "source": [
    "tables = ['task_one','task_two','task_three']\n",
    "for each in tables:\n",
    "    rows = session.execute('DROP TABLE IF EXISTS ' + str(each) + ';')"
   ]
  },
  {
   "cell_type": "markdown",
   "metadata": {
    "editable": true
   },
   "source": [
    "### Close the session and cluster connection¶"
   ]
  },
  {
   "cell_type": "code",
   "execution_count": 109,
   "metadata": {
    "editable": true
   },
   "outputs": [],
   "source": [
    "session.shutdown()\n",
    "cluster.shutdown()"
   ]
  },
  {
   "cell_type": "code",
   "execution_count": null,
   "metadata": {
    "editable": true
   },
   "outputs": [],
   "source": []
  },
  {
   "cell_type": "code",
   "execution_count": null,
   "metadata": {
    "editable": true
   },
   "outputs": [],
   "source": []
  }
 ],
 "metadata": {
  "kernelspec": {
   "display_name": "Python 3",
   "language": "python",
   "name": "python3"
  },
  "language_info": {
   "codemirror_mode": {
    "name": "ipython",
    "version": 3
   },
   "file_extension": ".py",
   "mimetype": "text/x-python",
   "name": "python",
   "nbconvert_exporter": "python",
   "pygments_lexer": "ipython3",
   "version": "3.6.3"
  }
 },
 "nbformat": 4,
 "nbformat_minor": 4
}
